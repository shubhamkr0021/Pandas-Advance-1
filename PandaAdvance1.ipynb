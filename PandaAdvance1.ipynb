{
 "cells": [
  {
   "cell_type": "markdown",
   "id": "77d665dc-4338-47fa-862d-160f9a9fd7d5",
   "metadata": {},
   "source": [
    "Q1. List any five functions of the pandas library with execution."
   ]
  },
  {
   "cell_type": "markdown",
   "id": "0dd47e10-2902-4014-b2df-400a2d3dfeee",
   "metadata": {},
   "source": [
    "read_csv()\n",
    "\n",
    "    import pandas as pd\n",
    "\n",
    "    df = pd.read_csv('data.csv')\n",
    "    print(df.head())\n",
    "    \n",
    "\n",
    "info()\n",
    "\n",
    "    print(df.info())\n",
    "\n",
    "describe()\n",
    "\n",
    "    print(df.describe())\n",
    "    \n",
    "head()\n",
    "\n",
    "    print(df.head(3))\n",
    "    \n",
    "fillna()\n",
    "\n",
    "    df_filled = df.fillna(0)\n",
    "    print(df_filled.head())\n"
   ]
  },
  {
   "cell_type": "markdown",
   "id": "c8542b4e-8aa7-4788-a294-af535e7d5114",
   "metadata": {},
   "source": [
    "Q2. Given a Pandas DataFrame df with columns 'A', 'B', and 'C', write a Python function to re-index the\n",
    "DataFrame with a new index that starts from 1 and increments by 2 for each row."
   ]
  },
  {
   "cell_type": "code",
   "execution_count": 1,
   "id": "68dd2dd8-43cf-4a3a-beb2-de6afb50ae52",
   "metadata": {},
   "outputs": [
    {
     "name": "stdout",
     "output_type": "stream",
     "text": [
      "    A   B   C\n",
      "1  10  40  70\n",
      "3  20  50  80\n",
      "5  30  60  90\n"
     ]
    }
   ],
   "source": [
    "import pandas as pd\n",
    "\n",
    "data = {\n",
    "    'A': [10, 20, 30],\n",
    "    'B': [40, 50, 60],\n",
    "    'C': [70, 80, 90]\n",
    "}\n",
    "df = pd.DataFrame(data)\n",
    "\n",
    "def reindex_dataframe(df):\n",
    "    new_index = pd.Index(range(1, len(df) * 2, 2))\n",
    "    df.index = new_index\n",
    "\n",
    "    return df\n",
    "\n",
    "new_df = reindex_dataframe(df)\n",
    "print(new_df)\n"
   ]
  },
  {
   "cell_type": "markdown",
   "id": "1f28f893-aa44-4546-86dd-1d07bacfbef4",
   "metadata": {},
   "source": [
    "Q3. You have a Pandas DataFrame df with a column named 'Values'. Write a Python function that\n",
    "iterates over the DataFrame and calculates the sum of the first three values in the 'Values' column. The\n",
    "function should print the sum to the console."
   ]
  },
  {
   "cell_type": "code",
   "execution_count": 3,
   "id": "ff974cb7-f7b7-497c-998d-c66dfaade370",
   "metadata": {},
   "outputs": [
    {
     "name": "stdout",
     "output_type": "stream",
     "text": [
      "Sum of the first three values: 60\n"
     ]
    }
   ],
   "source": [
    "import pandas as pd\n",
    "\n",
    "data = {\n",
    "    'Values': [10, 20, 30, 40, 50] \n",
    "}\n",
    "df = pd.DataFrame(data)\n",
    "\n",
    "def calculate_sum_of_first_three(df):\n",
    "\n",
    "    sum_first_three = df['Values'].head(3).sum()\n",
    "\n",
    "    print(\"Sum of the first three values:\", sum_first_three)\n",
    "\n",
    "calculate_sum_of_first_three(df)\n"
   ]
  },
  {
   "cell_type": "markdown",
   "id": "f0ce6abd-6164-403c-b81c-0bcb14cfb2b5",
   "metadata": {},
   "source": [
    "Q4. Given a Pandas DataFrame df with a column 'Text', write a Python function to create a new column\n",
    "'Word_Count' that contains the number of words in each row of the 'Text' column."
   ]
  },
  {
   "cell_type": "code",
   "execution_count": 5,
   "id": "a2eb04e8-56b5-4ec9-a854-3faf6fa38508",
   "metadata": {},
   "outputs": [
    {
     "name": "stdout",
     "output_type": "stream",
     "text": [
      "                           Text  Word_Count\n",
      "0        This is a sample text.           5\n",
      "1         Count the words here.           4\n",
      "2  Pandas DataFrame operations.           3\n"
     ]
    }
   ],
   "source": [
    "import pandas as pd\n",
    "\n",
    "data = {\n",
    "    'Text': [\n",
    "        'This is a sample text.',\n",
    "        'Count the words here.',\n",
    "        'Pandas DataFrame operations.'\n",
    "    ]\n",
    "}\n",
    "df = pd.DataFrame(data)\n",
    "\n",
    "def add_word_count_column(df):\n",
    "    df['Word_Count'] = df['Text'].apply(lambda x: len(str(x).split()))\n",
    "    \n",
    "    return df\n",
    "\n",
    "df_with_word_count = add_word_count_column(df)\n",
    "print(df_with_word_count)\n"
   ]
  },
  {
   "cell_type": "markdown",
   "id": "c4e55bd8-d813-450d-b389-671424e03215",
   "metadata": {},
   "source": [
    "Q5. How are DataFrame.size() and DataFrame.shape() different?"
   ]
  },
  {
   "cell_type": "markdown",
   "id": "a3727ba0-babf-42a5-8f77-f00e4a723bae",
   "metadata": {},
   "source": [
    "Ans) DataFrame.size:\n",
    "\n",
    "DataFrame size returns the total number of elements in the DataFrame, calculated as the product of the number of rows and columns.\n",
    "The output is a single integer representing the total size of the DataFrame.\n",
    "\n",
    "DataFrame.shape:\n",
    "DataFrame.shape returns a tuple representing the dimensions of the DataFrame, with the number of rows followed by the number of columns.\n",
    "The output is a tuple containing two elements: the number of rows and the number of columns, respectively."
   ]
  },
  {
   "cell_type": "markdown",
   "id": "ba1bb224-590b-44cc-8501-3201bf49c5f3",
   "metadata": {},
   "source": [
    "Q6. Which function of pandas do we use to read an excel file?"
   ]
  },
  {
   "cell_type": "markdown",
   "id": "d69cac97-26be-4e36-a568-75e8f43f76d7",
   "metadata": {},
   "source": [
    "    import pandas as pd\n",
    "    df = pd.read_excel('data.xlsx')\n"
   ]
  },
  {
   "cell_type": "code",
   "execution_count": 6,
   "id": "2e43f25d-fdfd-42a8-bb2f-e921602eaccf",
   "metadata": {},
   "outputs": [
    {
     "name": "stdout",
     "output_type": "stream",
     "text": [
      "                        Email        Username\n",
      "0        john.doe@example.com        john.doe\n",
      "1      jane.smith@example.com      jane.smith\n",
      "2  robert.johnson@example.com  robert.johnson\n"
     ]
    }
   ],
   "source": [
    "import pandas as pd\n",
    "\n",
    "data = {\n",
    "    'Email': [\n",
    "        'john.doe@example.com',\n",
    "        'jane.smith@example.com',\n",
    "        'robert.johnson@example.com'\n",
    "    ]\n",
    "}\n",
    "df = pd.DataFrame(data)\n",
    "\n",
    "def extract_username(df):\n",
    "    # Extracting the username part from the 'Email' column\n",
    "    df['Username'] = df['Email'].apply(lambda x: x.split('@')[0])\n",
    "    \n",
    "    return df\n",
    "\n",
    "df_with_username = extract_username(df)\n",
    "print(df_with_username)\n"
   ]
  },
  {
   "cell_type": "markdown",
   "id": "184f68e9-13cc-4a41-9481-c4652f81dce6",
   "metadata": {},
   "source": [
    "    Q8. You have a Pandas DataFrame df with columns 'A', 'B', and 'C'. Write a Python function that selects\n",
    "    all rows where the value in column 'A' is greater than 5 and the value in column 'B' is less than 10. The\n",
    "    function should return a new DataFrame that contains only the selected rows.\n",
    "    For example, if df contains the following values:\n",
    "            A B C\n",
    "            0 3 5 1\n",
    "            1 8 2 7\n",
    "            2 6 9 4\n",
    "            3 2 3 5\n",
    "            4 9 1 2"
   ]
  },
  {
   "cell_type": "code",
   "execution_count": 7,
   "id": "e9c667b0-2a82-4273-9499-1f009de53b55",
   "metadata": {},
   "outputs": [
    {
     "name": "stdout",
     "output_type": "stream",
     "text": [
      "   A  B  C\n",
      "1  8  2  7\n",
      "2  6  9  4\n",
      "4  9  1  2\n"
     ]
    }
   ],
   "source": [
    "import pandas as pd\n",
    "\n",
    "data = {\n",
    "    'A': [3, 8, 6, 2, 9],\n",
    "    'B': [5, 2, 9, 3, 1],\n",
    "    'C': [1, 7, 4, 5, 2]\n",
    "}\n",
    "df = pd.DataFrame(data)\n",
    "\n",
    "def select_rows(df):\n",
    "\n",
    "    selected_rows = df[(df['A'] > 5) & (df['B'] < 10)]\n",
    "    \n",
    "    return selected_rows\n",
    "\n",
    "selected_df = select_rows(df)\n",
    "print(selected_df)\n"
   ]
  },
  {
   "cell_type": "code",
   "execution_count": null,
   "id": "8576ca4f-9554-4519-9660-7b26a62cc28e",
   "metadata": {},
   "outputs": [],
   "source": []
  }
 ],
 "metadata": {
  "kernelspec": {
   "display_name": "Python 3 (ipykernel)",
   "language": "python",
   "name": "python3"
  },
  "language_info": {
   "codemirror_mode": {
    "name": "ipython",
    "version": 3
   },
   "file_extension": ".py",
   "mimetype": "text/x-python",
   "name": "python",
   "nbconvert_exporter": "python",
   "pygments_lexer": "ipython3",
   "version": "3.10.8"
  }
 },
 "nbformat": 4,
 "nbformat_minor": 5
}
